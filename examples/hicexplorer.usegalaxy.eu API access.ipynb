{
 "cells": [
  {
   "cell_type": "code",
   "execution_count": 27,
   "metadata": {},
   "outputs": [],
   "source": [
    "from bioblend.galaxy import GalaxyInstance\n",
    "\n",
    "# API access is only possible for registered users.\n",
    "# Unregistered users can use the webinterface of https://hicexplorer.usegalaxy.eu\n",
    "\n",
    "API_KEY = \"\"\n",
    "gi = GalaxyInstance(url='https://hicexplorer.usegalaxy.eu', key=API_KEY)"
   ]
  },
  {
   "cell_type": "code",
   "execution_count": 2,
   "metadata": {},
   "outputs": [],
   "source": [
    "# Create a history\n",
    "history_id = gi.histories.create_history('Hi-C example NAR 2020')['id']"
   ]
  },
  {
   "cell_type": "code",
   "execution_count": 3,
   "metadata": {},
   "outputs": [],
   "source": [
    "# Upload a dataset from an URL\n",
    "upload = gi.tools.put_url('https://zenodo.org/record/1183661/files/HiC_S2_1p_10min_lowU_R1.fastq.gz', history_id, file_name='R1.fastq', file_type='fastqsanger.gz')"
   ]
  },
  {
   "cell_type": "code",
   "execution_count": 11,
   "metadata": {},
   "outputs": [],
   "source": [
    "# get the uploaded dataset ids\n",
    "# wait until the data has been uploaded\n",
    "dataset_ids = []\n",
    "\n",
    "all_items = gi.histories.show_history(history_id, contents=False)['state_ids']['ok']\n",
    "\n",
    "datatype = 'fastqsanger.gz'\n",
    "# get the files with the correct data type\n",
    "for items in all_items:\n",
    "    items_data = gi.datasets.show_dataset(items)\n",
    "    if items_data['extension'] == datatype:\n",
    "        dataset_ids.append(items)"
   ]
  },
  {
   "cell_type": "code",
   "execution_count": 12,
   "metadata": {},
   "outputs": [],
   "source": [
    "# get the correct bowtie version\n",
    "all_versions = gi.tools.get_tools(name='Bowtie2')\n",
    "latest_version = None\n",
    "latest_version_id = None\n",
    "latest_version_number = '2.3.4.3+galaxy0'\n",
    "for tool in all_versions:\n",
    "    if tool['version'] == latest_version_number:\n",
    "        latest_version = tool\n",
    "        latest_version_id = latest_version['id']"
   ]
  },
  {
   "cell_type": "code",
   "execution_count": null,
   "metadata": {},
   "outputs": [],
   "source": [
    "# prepare bowtie input"
   ]
  },
  {
   "cell_type": "code",
   "execution_count": 13,
   "metadata": {},
   "outputs": [],
   "source": [
    "from bioblend.galaxy.tools.inputs import inputs, dataset"
   ]
  },
  {
   "cell_type": "code",
   "execution_count": 14,
   "metadata": {},
   "outputs": [],
   "source": [
    "# run mapping\n",
    "\n",
    "my_input = inputs().set(\"inputName\",'value').set(\"input\",dataset(dataset_ids[0]))\n",
    "\n",
    "job_run = gi.tools.run_tool(history_id, latest_version_id, tool_inputs=my_input)"
   ]
  },
  {
   "cell_type": "code",
   "execution_count": 26,
   "metadata": {},
   "outputs": [],
   "source": [
    "# get the computed dataset ids\n",
    "# wait until the data has been computed\n",
    "dataset_ids = []\n",
    "\n",
    "all_items = gi.histories.show_history(history_id, contents=False)['state_ids']['ok']\n",
    "\n",
    "datatype = 'fastqsanger.gz'\n",
    "# get the files with the correct data type\n",
    "for items in all_items:\n",
    "    items_data = gi.datasets.show_dataset(items)\n",
    "#     print(items_data)\n",
    "    if items_data['extension'] == datatype:\n",
    "        dataset_ids.append(items)"
   ]
  },
  {
   "cell_type": "code",
   "execution_count": null,
   "metadata": {},
   "outputs": [],
   "source": [
    "# Download data"
   ]
  },
  {
   "cell_type": "code",
   "execution_count": 25,
   "metadata": {},
   "outputs": [
    {
     "data": {
      "text/plain": [
       "'download_galaxy/Galaxy1-[R1.fastq].fastqsanger.gz'"
      ]
     },
     "execution_count": 25,
     "metadata": {},
     "output_type": "execute_result"
    }
   ],
   "source": [
    "import os\n",
    "download_path = 'download_galaxy'\n",
    "\n",
    "os.mkdir(download_path)\n",
    "gi.datasets.download_dataset(dataset_ids[0], file_path=download_path)"
   ]
  }
 ],
 "metadata": {
  "kernelspec": {
   "display_name": "Python 3",
   "language": "python",
   "name": "python3"
  },
  "language_info": {
   "codemirror_mode": {
    "name": "ipython",
    "version": 3
   },
   "file_extension": ".py",
   "mimetype": "text/x-python",
   "name": "python",
   "nbconvert_exporter": "python",
   "pygments_lexer": "ipython3",
   "version": "3.5.5"
  }
 },
 "nbformat": 4,
 "nbformat_minor": 2
}
